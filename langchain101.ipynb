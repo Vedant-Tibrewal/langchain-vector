{
  "nbformat": 4,
  "nbformat_minor": 0,
  "metadata": {
    "colab": {
      "provenance": [],
      "toc_visible": true,
      "authorship_tag": "ABX9TyOuQEJNR3jyO5ntYh08IfKf",
      "include_colab_link": true
    },
    "kernelspec": {
      "name": "python3",
      "display_name": "Python 3"
    },
    "language_info": {
      "name": "python"
    }
  },
  "cells": [
    {
      "cell_type": "markdown",
      "metadata": {
        "id": "view-in-github",
        "colab_type": "text"
      },
      "source": [
        "<a href=\"https://colab.research.google.com/github/Vedant-Tibrewal/langchain-vector/blob/main/langchain101.ipynb\" target=\"_parent\"><img src=\"https://colab.research.google.com/assets/colab-badge.svg\" alt=\"Open In Colab\"/></a>"
      ]
    },
    {
      "cell_type": "markdown",
      "source": [
        "# SETUP"
      ],
      "metadata": {
        "id": "mK4oZIzKm6Pz"
      }
    },
    {
      "cell_type": "code",
      "execution_count": 4,
      "metadata": {
        "colab": {
          "base_uri": "https://localhost:8080/"
        },
        "id": "BAxikDWZluQC",
        "outputId": "5bc0a51e-3bdf-48cd-e040-1b8701c07a1a"
      },
      "outputs": [
        {
          "output_type": "stream",
          "name": "stdout",
          "text": [
            "Requirement already satisfied: langchain==0.0.208 in /usr/local/lib/python3.11/dist-packages (0.0.208)\n",
            "Requirement already satisfied: deeplake==3.9.27 in /usr/local/lib/python3.11/dist-packages (3.9.27)\n",
            "Requirement already satisfied: openai==0.27.8 in /usr/local/lib/python3.11/dist-packages (0.27.8)\n",
            "Requirement already satisfied: tiktoken in /usr/local/lib/python3.11/dist-packages (0.9.0)\n",
            "Collecting dotenv\n",
            "  Downloading dotenv-0.9.9-py2.py3-none-any.whl.metadata (279 bytes)\n",
            "Requirement already satisfied: PyYAML>=5.4.1 in /usr/local/lib/python3.11/dist-packages (from langchain==0.0.208) (6.0.2)\n",
            "Requirement already satisfied: SQLAlchemy<3,>=1.4 in /usr/local/lib/python3.11/dist-packages (from langchain==0.0.208) (2.0.41)\n",
            "Requirement already satisfied: aiohttp<4.0.0,>=3.8.3 in /usr/local/lib/python3.11/dist-packages (from langchain==0.0.208) (3.12.14)\n",
            "Requirement already satisfied: dataclasses-json<0.6.0,>=0.5.7 in /usr/local/lib/python3.11/dist-packages (from langchain==0.0.208) (0.5.14)\n",
            "Requirement already satisfied: langchainplus-sdk>=0.0.13 in /usr/local/lib/python3.11/dist-packages (from langchain==0.0.208) (0.0.20)\n",
            "Requirement already satisfied: numexpr<3.0.0,>=2.8.4 in /usr/local/lib/python3.11/dist-packages (from langchain==0.0.208) (2.11.0)\n",
            "Requirement already satisfied: numpy<2,>=1 in /usr/local/lib/python3.11/dist-packages (from langchain==0.0.208) (1.26.4)\n",
            "Requirement already satisfied: openapi-schema-pydantic<2.0,>=1.2 in /usr/local/lib/python3.11/dist-packages (from langchain==0.0.208) (1.2.4)\n",
            "Requirement already satisfied: pydantic<2,>=1 in /usr/local/lib/python3.11/dist-packages (from langchain==0.0.208) (1.10.22)\n",
            "Requirement already satisfied: requests<3,>=2 in /usr/local/lib/python3.11/dist-packages (from langchain==0.0.208) (2.32.3)\n",
            "Requirement already satisfied: tenacity<9.0.0,>=8.1.0 in /usr/local/lib/python3.11/dist-packages (from langchain==0.0.208) (8.5.0)\n",
            "Requirement already satisfied: pillow~=10.4.0 in /usr/local/lib/python3.11/dist-packages (from deeplake==3.9.27) (10.4.0)\n",
            "Requirement already satisfied: boto3 in /usr/local/lib/python3.11/dist-packages (from deeplake==3.9.27) (1.38.27)\n",
            "Requirement already satisfied: click in /usr/local/lib/python3.11/dist-packages (from deeplake==3.9.27) (8.2.1)\n",
            "Requirement already satisfied: pathos in /usr/local/lib/python3.11/dist-packages (from deeplake==3.9.27) (0.3.4)\n",
            "Requirement already satisfied: humbug>=0.3.1 in /usr/local/lib/python3.11/dist-packages (from deeplake==3.9.27) (0.3.2)\n",
            "Requirement already satisfied: tqdm in /usr/local/lib/python3.11/dist-packages (from deeplake==3.9.27) (4.67.1)\n",
            "Requirement already satisfied: lz4 in /usr/local/lib/python3.11/dist-packages (from deeplake==3.9.27) (4.4.4)\n",
            "Requirement already satisfied: pyjwt in /usr/local/lib/python3.11/dist-packages (from deeplake==3.9.27) (2.10.1)\n",
            "Requirement already satisfied: aioboto3>=10.4.0 in /usr/local/lib/python3.11/dist-packages (from deeplake==3.9.27) (15.0.0)\n",
            "Requirement already satisfied: nest_asyncio in /usr/local/lib/python3.11/dist-packages (from deeplake==3.9.27) (1.6.0)\n",
            "Requirement already satisfied: libdeeplake==0.0.147 in /usr/local/lib/python3.11/dist-packages (from deeplake==3.9.27) (0.0.147)\n",
            "Requirement already satisfied: dill in /usr/local/lib/python3.11/dist-packages (from libdeeplake==0.0.147->deeplake==3.9.27) (0.4.0)\n",
            "Requirement already satisfied: regex>=2022.1.18 in /usr/local/lib/python3.11/dist-packages (from tiktoken) (2024.11.6)\n",
            "Collecting python-dotenv (from dotenv)\n",
            "  Downloading python_dotenv-1.1.1-py3-none-any.whl.metadata (24 kB)\n",
            "Requirement already satisfied: aiobotocore==2.23.0 in /usr/local/lib/python3.11/dist-packages (from aiobotocore[boto3]==2.23.0->aioboto3>=10.4.0->deeplake==3.9.27) (2.23.0)\n",
            "Requirement already satisfied: aiofiles>=23.2.1 in /usr/local/lib/python3.11/dist-packages (from aioboto3>=10.4.0->deeplake==3.9.27) (24.1.0)\n",
            "Requirement already satisfied: aioitertools<1.0.0,>=0.5.1 in /usr/local/lib/python3.11/dist-packages (from aiobotocore==2.23.0->aiobotocore[boto3]==2.23.0->aioboto3>=10.4.0->deeplake==3.9.27) (0.12.0)\n",
            "Requirement already satisfied: botocore<1.38.28,>=1.38.23 in /usr/local/lib/python3.11/dist-packages (from aiobotocore==2.23.0->aiobotocore[boto3]==2.23.0->aioboto3>=10.4.0->deeplake==3.9.27) (1.38.27)\n",
            "Requirement already satisfied: python-dateutil<3.0.0,>=2.1 in /usr/local/lib/python3.11/dist-packages (from aiobotocore==2.23.0->aiobotocore[boto3]==2.23.0->aioboto3>=10.4.0->deeplake==3.9.27) (2.9.0.post0)\n",
            "Requirement already satisfied: jmespath<2.0.0,>=0.7.1 in /usr/local/lib/python3.11/dist-packages (from aiobotocore==2.23.0->aiobotocore[boto3]==2.23.0->aioboto3>=10.4.0->deeplake==3.9.27) (1.0.1)\n",
            "Requirement already satisfied: multidict<7.0.0,>=6.0.0 in /usr/local/lib/python3.11/dist-packages (from aiobotocore==2.23.0->aiobotocore[boto3]==2.23.0->aioboto3>=10.4.0->deeplake==3.9.27) (6.6.3)\n",
            "Requirement already satisfied: wrapt<2.0.0,>=1.10.10 in /usr/local/lib/python3.11/dist-packages (from aiobotocore==2.23.0->aiobotocore[boto3]==2.23.0->aioboto3>=10.4.0->deeplake==3.9.27) (1.17.2)\n",
            "Requirement already satisfied: aiohappyeyeballs>=2.5.0 in /usr/local/lib/python3.11/dist-packages (from aiohttp<4.0.0,>=3.8.3->langchain==0.0.208) (2.6.1)\n",
            "Requirement already satisfied: aiosignal>=1.4.0 in /usr/local/lib/python3.11/dist-packages (from aiohttp<4.0.0,>=3.8.3->langchain==0.0.208) (1.4.0)\n",
            "Requirement already satisfied: attrs>=17.3.0 in /usr/local/lib/python3.11/dist-packages (from aiohttp<4.0.0,>=3.8.3->langchain==0.0.208) (25.3.0)\n",
            "Requirement already satisfied: frozenlist>=1.1.1 in /usr/local/lib/python3.11/dist-packages (from aiohttp<4.0.0,>=3.8.3->langchain==0.0.208) (1.7.0)\n",
            "Requirement already satisfied: propcache>=0.2.0 in /usr/local/lib/python3.11/dist-packages (from aiohttp<4.0.0,>=3.8.3->langchain==0.0.208) (0.3.2)\n",
            "Requirement already satisfied: yarl<2.0,>=1.17.0 in /usr/local/lib/python3.11/dist-packages (from aiohttp<4.0.0,>=3.8.3->langchain==0.0.208) (1.20.1)\n",
            "Requirement already satisfied: s3transfer<0.14.0,>=0.13.0 in /usr/local/lib/python3.11/dist-packages (from boto3->deeplake==3.9.27) (0.13.1)\n",
            "Requirement already satisfied: marshmallow<4.0.0,>=3.18.0 in /usr/local/lib/python3.11/dist-packages (from dataclasses-json<0.6.0,>=0.5.7->langchain==0.0.208) (3.26.1)\n",
            "Requirement already satisfied: typing-inspect<1,>=0.4.0 in /usr/local/lib/python3.11/dist-packages (from dataclasses-json<0.6.0,>=0.5.7->langchain==0.0.208) (0.9.0)\n",
            "Requirement already satisfied: typing-extensions>=4.2.0 in /usr/local/lib/python3.11/dist-packages (from pydantic<2,>=1->langchain==0.0.208) (4.14.1)\n",
            "Requirement already satisfied: charset-normalizer<4,>=2 in /usr/local/lib/python3.11/dist-packages (from requests<3,>=2->langchain==0.0.208) (3.4.2)\n",
            "Requirement already satisfied: idna<4,>=2.5 in /usr/local/lib/python3.11/dist-packages (from requests<3,>=2->langchain==0.0.208) (3.10)\n",
            "Requirement already satisfied: urllib3<3,>=1.21.1 in /usr/local/lib/python3.11/dist-packages (from requests<3,>=2->langchain==0.0.208) (2.5.0)\n",
            "Requirement already satisfied: certifi>=2017.4.17 in /usr/local/lib/python3.11/dist-packages (from requests<3,>=2->langchain==0.0.208) (2025.7.14)\n",
            "Requirement already satisfied: greenlet>=1 in /usr/local/lib/python3.11/dist-packages (from SQLAlchemy<3,>=1.4->langchain==0.0.208) (3.2.3)\n",
            "Requirement already satisfied: ppft>=1.7.7 in /usr/local/lib/python3.11/dist-packages (from pathos->deeplake==3.9.27) (1.7.7)\n",
            "Requirement already satisfied: pox>=0.3.6 in /usr/local/lib/python3.11/dist-packages (from pathos->deeplake==3.9.27) (0.3.6)\n",
            "Requirement already satisfied: multiprocess>=0.70.18 in /usr/local/lib/python3.11/dist-packages (from pathos->deeplake==3.9.27) (0.70.18)\n",
            "Requirement already satisfied: packaging>=17.0 in /usr/local/lib/python3.11/dist-packages (from marshmallow<4.0.0,>=3.18.0->dataclasses-json<0.6.0,>=0.5.7->langchain==0.0.208) (25.0)\n",
            "Requirement already satisfied: mypy-extensions>=0.3.0 in /usr/local/lib/python3.11/dist-packages (from typing-inspect<1,>=0.4.0->dataclasses-json<0.6.0,>=0.5.7->langchain==0.0.208) (1.1.0)\n",
            "Requirement already satisfied: six>=1.5 in /usr/local/lib/python3.11/dist-packages (from python-dateutil<3.0.0,>=2.1->aiobotocore==2.23.0->aiobotocore[boto3]==2.23.0->aioboto3>=10.4.0->deeplake==3.9.27) (1.17.0)\n",
            "Downloading dotenv-0.9.9-py2.py3-none-any.whl (1.9 kB)\n",
            "Downloading python_dotenv-1.1.1-py3-none-any.whl (20 kB)\n",
            "Installing collected packages: python-dotenv, dotenv\n",
            "Successfully installed dotenv-0.9.9 python-dotenv-1.1.1\n"
          ]
        }
      ],
      "source": [
        "!pip install langchain==0.0.208 deeplake==3.9.27 openai==0.27.8 tiktoken dotenv"
      ]
    },
    {
      "cell_type": "code",
      "source": [
        "# connect google drive\n",
        "from google.colab import drive\n",
        "drive.mount('/content/drive')"
      ],
      "metadata": {
        "colab": {
          "base_uri": "https://localhost:8080/"
        },
        "id": "UzY8dJAandoH",
        "outputId": "81ee640c-5b6c-4959-f8e8-c708d1b07430"
      },
      "execution_count": 2,
      "outputs": [
        {
          "output_type": "stream",
          "name": "stdout",
          "text": [
            "Mounted at /content/drive\n"
          ]
        }
      ]
    },
    {
      "cell_type": "code",
      "source": [
        "from dotenv import load_dotenv\n",
        "\n",
        "load_dotenv('/content/drive/MyDrive/rag/langchain-vector/langchain-vec.env')"
      ],
      "metadata": {
        "colab": {
          "base_uri": "https://localhost:8080/"
        },
        "id": "nXmKg6pNqmSw",
        "outputId": "19fcf6cf-272c-4f3e-c862-c351be8b607b"
      },
      "execution_count": 5,
      "outputs": [
        {
          "output_type": "execute_result",
          "data": {
            "text/plain": [
              "True"
            ]
          },
          "metadata": {},
          "execution_count": 5
        }
      ]
    },
    {
      "cell_type": "code",
      "source": [
        "from langchain.llms import OpenAI"
      ],
      "metadata": {
        "colab": {
          "base_uri": "https://localhost:8080/"
        },
        "id": "nIpRDChBm9WJ",
        "outputId": "0a423f5d-9cb5-4b0b-d490-0f2a19f8ef1b"
      },
      "execution_count": 1,
      "outputs": [
        {
          "output_type": "stream",
          "name": "stderr",
          "text": [
            "/usr/local/lib/python3.11/dist-packages/deeplake/util/check_latest_version.py:32: UserWarning: A newer version of deeplake (4.2.14) is available. It's recommended that you update to the latest version using `pip install -U deeplake`.\n",
            "  warnings.warn(\n"
          ]
        }
      ]
    },
    {
      "cell_type": "markdown",
      "source": [
        "## API TEST DRIVE"
      ],
      "metadata": {
        "id": "p_QdregcrFnL"
      }
    },
    {
      "cell_type": "code",
      "source": [
        "# Before executing the following code, make sure to have\n",
        "# your OpenAI key saved in the “OPENAI_API_KEY” environment variable.\n",
        "llm = OpenAI(model=\"gpt-3.5-turbo-instruct\", temperature=0.9)"
      ],
      "metadata": {
        "id": "_DPiLZCHnUSp"
      },
      "execution_count": 8,
      "outputs": []
    },
    {
      "cell_type": "code",
      "source": [
        "text = \"Suggest a personalized workout routine for someone looking to improve cardiovascular endurance and prefers outdoor activities.\"\n",
        "print(llm(text))"
      ],
      "metadata": {
        "colab": {
          "base_uri": "https://localhost:8080/"
        },
        "id": "72m6XlC7q89z",
        "outputId": "909a3ae9-c574-46bc-c70d-4398ee0f094e"
      },
      "execution_count": 9,
      "outputs": [
        {
          "output_type": "stream",
          "name": "stdout",
          "text": [
            "\n",
            "\n",
            "Warm-up:\n",
            "- Jog for 5 minutes around the neighborhood or park\n",
            "\n",
            "Circuit 1:\n",
            "- Sprint for 30 seconds, followed by a 1-minute jog\n",
            "- Repeat for 10 rounds\n",
            "\n",
            "Circuit 2:\n",
            "- Jump rope for 1 minute\n",
            "- Mountain climbers for 30 seconds\n",
            "- High knees for 30 seconds\n",
            "- Rest for 1 minute\n",
            "- Repeat for 3 rounds\n",
            "\n",
            "Circuit 3:\n",
            "- Bike for 10 minutes at a moderate pace\n",
            "- Stop and do 10 push-ups\n",
            "- Bike for another 10 minutes, increasing intensity every 2 minutes\n",
            "- Stop and do 10 burpees\n",
            "- Bike for another 10 minutes, increasing intensity every 2 minutes\n",
            "\n",
            "Finisher:\n",
            "- Run up and down a nearby hill or a flight of stairs for 5 minutes\n",
            "- Cool down with a 5 minute walk or jog\n",
            "\n",
            "Outdoor Activities:\n",
            "- Go for a hike or trail run for 30-45 minutes\n",
            "- Play a game of tennis or basketball for 30 minutes\n",
            "- Swim laps in a pool for 20-30 minutes\n",
            "- Go for a bike ride for 45 minutes to an hour\n",
            "- Try a fun outdoor activity like paddleboarding, kayaking, or rock\n"
          ]
        }
      ]
    },
    {
      "cell_type": "markdown",
      "source": [
        "### LLMChain"
      ],
      "metadata": {
        "id": "hTz_flNYvVKW"
      }
    },
    {
      "cell_type": "code",
      "source": [
        "from langchain.prompts import PromptTemplate\n",
        "from langchain.llms import OpenAI\n",
        "from langchain.chains import LLMChain\n",
        "\n",
        "llm = OpenAI(model=\"gpt-3.5-turbo-instruct\", temperature=0.9)\n",
        "prompt = PromptTemplate(\n",
        "    input_variables=[\"product\"],\n",
        "    template=\"What is a good name for a company that makes {product}?\",\n",
        ")\n",
        "prompt"
      ],
      "metadata": {
        "colab": {
          "base_uri": "https://localhost:8080/"
        },
        "id": "ymgZZImArBzt",
        "outputId": "8dc7a63a-d13e-4288-f9b7-c4967866968e"
      },
      "execution_count": 11,
      "outputs": [
        {
          "output_type": "execute_result",
          "data": {
            "text/plain": [
              "PromptTemplate(input_variables=['product'], output_parser=None, partial_variables={}, template='What is a good name for a company that makes {product}?', template_format='f-string', validate_template=True)"
            ]
          },
          "metadata": {},
          "execution_count": 11
        }
      ]
    },
    {
      "cell_type": "code",
      "source": [
        "chain = LLMChain(llm=llm, prompt=prompt)\n",
        "\n",
        "# Run the chain only specifying the input variable.\n",
        "print(chain.run(\"eco-friendly water bottles\"))"
      ],
      "metadata": {
        "colab": {
          "base_uri": "https://localhost:8080/"
        },
        "id": "tHhBCeAguyGH",
        "outputId": "82d22f3c-4b95-40d7-9a58-a9a2656d9e1c"
      },
      "execution_count": 12,
      "outputs": [
        {
          "output_type": "stream",
          "name": "stdout",
          "text": [
            "\n",
            "\n",
            "1. \"EcoHydrate\"\n",
            "2. \"GreenWave Bottles\"\n",
            "3. \"EnviroBottle Co.\"\n",
            "4. \"SustainaBottle\"\n",
            "5. \"PureEarth Bottles\"\n",
            "6. \"EcoWater Co.\"\n",
            "7. \"Revolutionary Bottle Co.\"\n",
            "8. \"EcoFlow Bottles\"\n",
            "9. \"Nature's Resource Bottles\"\n",
            "10. \"EcoSip Co.\"\n"
          ]
        }
      ]
    },
    {
      "cell_type": "code",
      "source": [
        "\n",
        "chain = LLMChain(llm=llm, prompt=prompt)\n",
        "\n",
        "# Run the chain only specifying the input variable.\n",
        "print(chain.run(\"Holographic Handhelp Gaming console\"))"
      ],
      "metadata": {
        "colab": {
          "base_uri": "https://localhost:8080/"
        },
        "id": "U_2GvJeuu-AT",
        "outputId": "17fbc458-2cdf-4f38-d25e-13db75e5a737"
      },
      "execution_count": 13,
      "outputs": [
        {
          "output_type": "stream",
          "name": "stdout",
          "text": [
            "\n",
            "\n",
            "\"HyperHolo Gaming Co.\"\n"
          ]
        }
      ]
    },
    {
      "cell_type": "markdown",
      "source": [
        "### LLM Memory"
      ],
      "metadata": {
        "id": "i0iAu-ywvfsk"
      }
    },
    {
      "cell_type": "code",
      "source": [],
      "metadata": {
        "id": "zyXDU8kPvFVi"
      },
      "execution_count": null,
      "outputs": []
    }
  ]
}
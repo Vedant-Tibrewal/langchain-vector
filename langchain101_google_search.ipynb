{
  "nbformat": 4,
  "nbformat_minor": 0,
  "metadata": {
    "colab": {
      "provenance": [],
      "toc_visible": true,
      "authorship_tag": "ABX9TyPLx5oR6jv9O0qKI+/j9Qkh",
      "include_colab_link": true
    },
    "kernelspec": {
      "name": "python3",
      "display_name": "Python 3"
    },
    "language_info": {
      "name": "python"
    }
  },
  "cells": [
    {
      "cell_type": "markdown",
      "metadata": {
        "id": "view-in-github",
        "colab_type": "text"
      },
      "source": [
        "<a href=\"https://colab.research.google.com/github/Vedant-Tibrewal/langchain-vector/blob/main/langchain101_google_search.ipynb\" target=\"_parent\"><img src=\"https://colab.research.google.com/assets/colab-badge.svg\" alt=\"Open In Colab\"/></a>"
      ]
    },
    {
      "cell_type": "markdown",
      "source": [
        "# SETUP"
      ],
      "metadata": {
        "id": "m0mEtB1_8jdh"
      }
    },
    {
      "cell_type": "code",
      "source": [
        "from IPython.display import HTML, display\n",
        "\n",
        "def set_css():\n",
        "    display(HTML(''' <style> pre { white-space: pre-wrap; } </style> '''))\n",
        "\n",
        "get_ipython().events.register('pre_run_cell', set_css)"
      ],
      "metadata": {
        "colab": {
          "base_uri": "https://localhost:8080/",
          "height": 17
        },
        "id": "_6agMHym8Pgp",
        "outputId": "4c4fe534-7d4b-4999-8714-a8e683883243"
      },
      "execution_count": 15,
      "outputs": [
        {
          "output_type": "display_data",
          "data": {
            "text/plain": [
              "<IPython.core.display.HTML object>"
            ],
            "text/html": [
              " <style> pre { white-space: pre-wrap; } </style> "
            ]
          },
          "metadata": {}
        }
      ]
    },
    {
      "cell_type": "code",
      "execution_count": 1,
      "metadata": {
        "colab": {
          "base_uri": "https://localhost:8080/"
        },
        "id": "Gn7VBeTY6ftA",
        "outputId": "15e15272-ba5d-45f3-a04a-684b783f8663"
      },
      "outputs": [
        {
          "output_type": "stream",
          "name": "stdout",
          "text": [
            "Mounted at /content/drive\n"
          ]
        }
      ],
      "source": [
        "from google.colab import drive\n",
        "drive.mount('/content/drive')"
      ]
    },
    {
      "cell_type": "code",
      "source": [
        "!pip install langchain deeplake openai tiktoken dotenv langchain-google-community"
      ],
      "metadata": {
        "colab": {
          "base_uri": "https://localhost:8080/"
        },
        "id": "ktZAX2P-6zZU",
        "outputId": "9a2677c8-daa1-4bde-8a00-0086d33681e2"
      },
      "execution_count": 4,
      "outputs": [
        {
          "output_type": "stream",
          "name": "stdout",
          "text": [
            "Requirement already satisfied: langchain in /usr/local/lib/python3.11/dist-packages (0.3.27)\n",
            "Collecting deeplake\n",
            "  Downloading deeplake-4.2.14-cp311-cp311-manylinux2014_x86_64.whl.metadata (18 kB)\n",
            "Requirement already satisfied: openai in /usr/local/lib/python3.11/dist-packages (1.97.1)\n",
            "Requirement already satisfied: tiktoken in /usr/local/lib/python3.11/dist-packages (0.9.0)\n",
            "Collecting dotenv\n",
            "  Downloading dotenv-0.9.9-py2.py3-none-any.whl.metadata (279 bytes)\n",
            "Collecting langchain-google-community\n",
            "  Downloading langchain_google_community-2.0.7-py3-none-any.whl.metadata (3.5 kB)\n",
            "Requirement already satisfied: langchain-core<1.0.0,>=0.3.72 in /usr/local/lib/python3.11/dist-packages (from langchain) (0.3.72)\n",
            "Requirement already satisfied: langchain-text-splitters<1.0.0,>=0.3.9 in /usr/local/lib/python3.11/dist-packages (from langchain) (0.3.9)\n",
            "Requirement already satisfied: langsmith>=0.1.17 in /usr/local/lib/python3.11/dist-packages (from langchain) (0.4.8)\n",
            "Requirement already satisfied: pydantic<3.0.0,>=2.7.4 in /usr/local/lib/python3.11/dist-packages (from langchain) (2.11.7)\n",
            "Requirement already satisfied: SQLAlchemy<3,>=1.4 in /usr/local/lib/python3.11/dist-packages (from langchain) (2.0.41)\n",
            "Requirement already satisfied: requests<3,>=2 in /usr/local/lib/python3.11/dist-packages (from langchain) (2.32.3)\n",
            "Requirement already satisfied: PyYAML>=5.3 in /usr/local/lib/python3.11/dist-packages (from langchain) (6.0.2)\n",
            "Requirement already satisfied: numpy in /usr/local/lib/python3.11/dist-packages (from deeplake) (2.0.2)\n",
            "Requirement already satisfied: anyio<5,>=3.5.0 in /usr/local/lib/python3.11/dist-packages (from openai) (4.9.0)\n",
            "Requirement already satisfied: distro<2,>=1.7.0 in /usr/local/lib/python3.11/dist-packages (from openai) (1.9.0)\n",
            "Requirement already satisfied: httpx<1,>=0.23.0 in /usr/local/lib/python3.11/dist-packages (from openai) (0.28.1)\n",
            "Requirement already satisfied: jiter<1,>=0.4.0 in /usr/local/lib/python3.11/dist-packages (from openai) (0.10.0)\n",
            "Requirement already satisfied: sniffio in /usr/local/lib/python3.11/dist-packages (from openai) (1.3.1)\n",
            "Requirement already satisfied: tqdm>4 in /usr/local/lib/python3.11/dist-packages (from openai) (4.67.1)\n",
            "Requirement already satisfied: typing-extensions<5,>=4.11 in /usr/local/lib/python3.11/dist-packages (from openai) (4.14.1)\n",
            "Requirement already satisfied: regex>=2022.1.18 in /usr/local/lib/python3.11/dist-packages (from tiktoken) (2024.11.6)\n",
            "Collecting python-dotenv (from dotenv)\n",
            "  Downloading python_dotenv-1.1.1-py3-none-any.whl.metadata (24 kB)\n",
            "Requirement already satisfied: google-api-core<3.0.0,>=2.24.1 in /usr/local/lib/python3.11/dist-packages (from langchain-google-community) (2.25.1)\n",
            "Requirement already satisfied: google-api-python-client<3.0.0,>=2.161.0 in /usr/local/lib/python3.11/dist-packages (from langchain-google-community) (2.177.0)\n",
            "Requirement already satisfied: google-cloud-core<3.0.0,>=2.4.2 in /usr/local/lib/python3.11/dist-packages (from langchain-google-community) (2.4.3)\n",
            "Requirement already satisfied: grpcio<2.0.0,>=1.70.0 in /usr/local/lib/python3.11/dist-packages (from langchain-google-community) (1.74.0)\n",
            "Collecting langchain-community<0.4.0,>=0.3.0 (from langchain-google-community)\n",
            "  Downloading langchain_community-0.3.27-py3-none-any.whl.metadata (2.9 kB)\n",
            "Requirement already satisfied: idna>=2.8 in /usr/local/lib/python3.11/dist-packages (from anyio<5,>=3.5.0->openai) (3.10)\n",
            "Requirement already satisfied: googleapis-common-protos<2.0.0,>=1.56.2 in /usr/local/lib/python3.11/dist-packages (from google-api-core<3.0.0,>=2.24.1->langchain-google-community) (1.70.0)\n",
            "Requirement already satisfied: protobuf!=3.20.0,!=3.20.1,!=4.21.0,!=4.21.1,!=4.21.2,!=4.21.3,!=4.21.4,!=4.21.5,<7.0.0,>=3.19.5 in /usr/local/lib/python3.11/dist-packages (from google-api-core<3.0.0,>=2.24.1->langchain-google-community) (5.29.5)\n",
            "Requirement already satisfied: proto-plus<2.0.0,>=1.22.3 in /usr/local/lib/python3.11/dist-packages (from google-api-core<3.0.0,>=2.24.1->langchain-google-community) (1.26.1)\n",
            "Requirement already satisfied: google-auth<3.0.0,>=2.14.1 in /usr/local/lib/python3.11/dist-packages (from google-api-core<3.0.0,>=2.24.1->langchain-google-community) (2.38.0)\n",
            "Requirement already satisfied: httplib2<1.0.0,>=0.19.0 in /usr/local/lib/python3.11/dist-packages (from google-api-python-client<3.0.0,>=2.161.0->langchain-google-community) (0.22.0)\n",
            "Requirement already satisfied: google-auth-httplib2<1.0.0,>=0.2.0 in /usr/local/lib/python3.11/dist-packages (from google-api-python-client<3.0.0,>=2.161.0->langchain-google-community) (0.2.0)\n",
            "Requirement already satisfied: uritemplate<5,>=3.0.1 in /usr/local/lib/python3.11/dist-packages (from google-api-python-client<3.0.0,>=2.161.0->langchain-google-community) (4.2.0)\n",
            "Requirement already satisfied: certifi in /usr/local/lib/python3.11/dist-packages (from httpx<1,>=0.23.0->openai) (2025.7.14)\n",
            "Requirement already satisfied: httpcore==1.* in /usr/local/lib/python3.11/dist-packages (from httpx<1,>=0.23.0->openai) (1.0.9)\n",
            "Requirement already satisfied: h11>=0.16 in /usr/local/lib/python3.11/dist-packages (from httpcore==1.*->httpx<1,>=0.23.0->openai) (0.16.0)\n",
            "Requirement already satisfied: aiohttp<4.0.0,>=3.8.3 in /usr/local/lib/python3.11/dist-packages (from langchain-community<0.4.0,>=0.3.0->langchain-google-community) (3.12.14)\n",
            "Requirement already satisfied: tenacity!=8.4.0,<10,>=8.1.0 in /usr/local/lib/python3.11/dist-packages (from langchain-community<0.4.0,>=0.3.0->langchain-google-community) (8.5.0)\n",
            "Collecting dataclasses-json<0.7,>=0.5.7 (from langchain-community<0.4.0,>=0.3.0->langchain-google-community)\n",
            "  Downloading dataclasses_json-0.6.7-py3-none-any.whl.metadata (25 kB)\n",
            "Collecting pydantic-settings<3.0.0,>=2.4.0 (from langchain-community<0.4.0,>=0.3.0->langchain-google-community)\n",
            "  Downloading pydantic_settings-2.10.1-py3-none-any.whl.metadata (3.4 kB)\n",
            "Collecting httpx-sse<1.0.0,>=0.4.0 (from langchain-community<0.4.0,>=0.3.0->langchain-google-community)\n",
            "  Downloading httpx_sse-0.4.1-py3-none-any.whl.metadata (9.4 kB)\n",
            "Requirement already satisfied: jsonpatch<2.0,>=1.33 in /usr/local/lib/python3.11/dist-packages (from langchain-core<1.0.0,>=0.3.72->langchain) (1.33)\n",
            "Requirement already satisfied: packaging>=23.2 in /usr/local/lib/python3.11/dist-packages (from langchain-core<1.0.0,>=0.3.72->langchain) (25.0)\n",
            "Requirement already satisfied: orjson<4.0.0,>=3.9.14 in /usr/local/lib/python3.11/dist-packages (from langsmith>=0.1.17->langchain) (3.11.1)\n",
            "Requirement already satisfied: requests-toolbelt<2.0.0,>=1.0.0 in /usr/local/lib/python3.11/dist-packages (from langsmith>=0.1.17->langchain) (1.0.0)\n",
            "Requirement already satisfied: zstandard<0.24.0,>=0.23.0 in /usr/local/lib/python3.11/dist-packages (from langsmith>=0.1.17->langchain) (0.23.0)\n",
            "Requirement already satisfied: annotated-types>=0.6.0 in /usr/local/lib/python3.11/dist-packages (from pydantic<3.0.0,>=2.7.4->langchain) (0.7.0)\n",
            "Requirement already satisfied: pydantic-core==2.33.2 in /usr/local/lib/python3.11/dist-packages (from pydantic<3.0.0,>=2.7.4->langchain) (2.33.2)\n",
            "Requirement already satisfied: typing-inspection>=0.4.0 in /usr/local/lib/python3.11/dist-packages (from pydantic<3.0.0,>=2.7.4->langchain) (0.4.1)\n",
            "Requirement already satisfied: charset-normalizer<4,>=2 in /usr/local/lib/python3.11/dist-packages (from requests<3,>=2->langchain) (3.4.2)\n",
            "Requirement already satisfied: urllib3<3,>=1.21.1 in /usr/local/lib/python3.11/dist-packages (from requests<3,>=2->langchain) (2.5.0)\n",
            "Requirement already satisfied: greenlet>=1 in /usr/local/lib/python3.11/dist-packages (from SQLAlchemy<3,>=1.4->langchain) (3.2.3)\n",
            "Requirement already satisfied: aiohappyeyeballs>=2.5.0 in /usr/local/lib/python3.11/dist-packages (from aiohttp<4.0.0,>=3.8.3->langchain-community<0.4.0,>=0.3.0->langchain-google-community) (2.6.1)\n",
            "Requirement already satisfied: aiosignal>=1.4.0 in /usr/local/lib/python3.11/dist-packages (from aiohttp<4.0.0,>=3.8.3->langchain-community<0.4.0,>=0.3.0->langchain-google-community) (1.4.0)\n",
            "Requirement already satisfied: attrs>=17.3.0 in /usr/local/lib/python3.11/dist-packages (from aiohttp<4.0.0,>=3.8.3->langchain-community<0.4.0,>=0.3.0->langchain-google-community) (25.3.0)\n",
            "Requirement already satisfied: frozenlist>=1.1.1 in /usr/local/lib/python3.11/dist-packages (from aiohttp<4.0.0,>=3.8.3->langchain-community<0.4.0,>=0.3.0->langchain-google-community) (1.7.0)\n",
            "Requirement already satisfied: multidict<7.0,>=4.5 in /usr/local/lib/python3.11/dist-packages (from aiohttp<4.0.0,>=3.8.3->langchain-community<0.4.0,>=0.3.0->langchain-google-community) (6.6.3)\n",
            "Requirement already satisfied: propcache>=0.2.0 in /usr/local/lib/python3.11/dist-packages (from aiohttp<4.0.0,>=3.8.3->langchain-community<0.4.0,>=0.3.0->langchain-google-community) (0.3.2)\n",
            "Requirement already satisfied: yarl<2.0,>=1.17.0 in /usr/local/lib/python3.11/dist-packages (from aiohttp<4.0.0,>=3.8.3->langchain-community<0.4.0,>=0.3.0->langchain-google-community) (1.20.1)\n",
            "Collecting marshmallow<4.0.0,>=3.18.0 (from dataclasses-json<0.7,>=0.5.7->langchain-community<0.4.0,>=0.3.0->langchain-google-community)\n",
            "  Downloading marshmallow-3.26.1-py3-none-any.whl.metadata (7.3 kB)\n",
            "Collecting typing-inspect<1,>=0.4.0 (from dataclasses-json<0.7,>=0.5.7->langchain-community<0.4.0,>=0.3.0->langchain-google-community)\n",
            "  Downloading typing_inspect-0.9.0-py3-none-any.whl.metadata (1.5 kB)\n",
            "Requirement already satisfied: cachetools<6.0,>=2.0.0 in /usr/local/lib/python3.11/dist-packages (from google-auth<3.0.0,>=2.14.1->google-api-core<3.0.0,>=2.24.1->langchain-google-community) (5.5.2)\n",
            "Requirement already satisfied: pyasn1-modules>=0.2.1 in /usr/local/lib/python3.11/dist-packages (from google-auth<3.0.0,>=2.14.1->google-api-core<3.0.0,>=2.24.1->langchain-google-community) (0.4.2)\n",
            "Requirement already satisfied: rsa<5,>=3.1.4 in /usr/local/lib/python3.11/dist-packages (from google-auth<3.0.0,>=2.14.1->google-api-core<3.0.0,>=2.24.1->langchain-google-community) (4.9.1)\n",
            "Requirement already satisfied: pyparsing!=3.0.0,!=3.0.1,!=3.0.2,!=3.0.3,<4,>=2.4.2 in /usr/local/lib/python3.11/dist-packages (from httplib2<1.0.0,>=0.19.0->google-api-python-client<3.0.0,>=2.161.0->langchain-google-community) (3.2.3)\n",
            "Requirement already satisfied: jsonpointer>=1.9 in /usr/local/lib/python3.11/dist-packages (from jsonpatch<2.0,>=1.33->langchain-core<1.0.0,>=0.3.72->langchain) (3.0.0)\n",
            "Requirement already satisfied: pyasn1<0.7.0,>=0.6.1 in /usr/local/lib/python3.11/dist-packages (from pyasn1-modules>=0.2.1->google-auth<3.0.0,>=2.14.1->google-api-core<3.0.0,>=2.24.1->langchain-google-community) (0.6.1)\n",
            "Collecting mypy-extensions>=0.3.0 (from typing-inspect<1,>=0.4.0->dataclasses-json<0.7,>=0.5.7->langchain-community<0.4.0,>=0.3.0->langchain-google-community)\n",
            "  Downloading mypy_extensions-1.1.0-py3-none-any.whl.metadata (1.1 kB)\n",
            "Downloading deeplake-4.2.14-cp311-cp311-manylinux2014_x86_64.whl (32.4 MB)\n",
            "\u001b[2K   \u001b[90m━━━━━━━━━━━━━━━━━━━━━━━━━━━━━━━━━━━━━━━━\u001b[0m \u001b[32m32.4/32.4 MB\u001b[0m \u001b[31m6.4 MB/s\u001b[0m eta \u001b[36m0:00:00\u001b[0m\n",
            "\u001b[?25hDownloading dotenv-0.9.9-py2.py3-none-any.whl (1.9 kB)\n",
            "Downloading langchain_google_community-2.0.7-py3-none-any.whl (99 kB)\n",
            "\u001b[2K   \u001b[90m━━━━━━━━━━━━━━━━━━━━━━━━━━━━━━━━━━━━━━━━\u001b[0m \u001b[32m99.6/99.6 kB\u001b[0m \u001b[31m6.9 MB/s\u001b[0m eta \u001b[36m0:00:00\u001b[0m\n",
            "\u001b[?25hDownloading langchain_community-0.3.27-py3-none-any.whl (2.5 MB)\n",
            "\u001b[2K   \u001b[90m━━━━━━━━━━━━━━━━━━━━━━━━━━━━━━━━━━━━━━━━\u001b[0m \u001b[32m2.5/2.5 MB\u001b[0m \u001b[31m85.1 MB/s\u001b[0m eta \u001b[36m0:00:00\u001b[0m\n",
            "\u001b[?25hDownloading python_dotenv-1.1.1-py3-none-any.whl (20 kB)\n",
            "Downloading dataclasses_json-0.6.7-py3-none-any.whl (28 kB)\n",
            "Downloading httpx_sse-0.4.1-py3-none-any.whl (8.1 kB)\n",
            "Downloading pydantic_settings-2.10.1-py3-none-any.whl (45 kB)\n",
            "\u001b[2K   \u001b[90m━━━━━━━━━━━━━━━━━━━━━━━━━━━━━━━━━━━━━━━━\u001b[0m \u001b[32m45.2/45.2 kB\u001b[0m \u001b[31m3.5 MB/s\u001b[0m eta \u001b[36m0:00:00\u001b[0m\n",
            "\u001b[?25hDownloading marshmallow-3.26.1-py3-none-any.whl (50 kB)\n",
            "\u001b[2K   \u001b[90m━━━━━━━━━━━━━━━━━━━━━━━━━━━━━━━━━━━━━━━━\u001b[0m \u001b[32m50.9/50.9 kB\u001b[0m \u001b[31m3.9 MB/s\u001b[0m eta \u001b[36m0:00:00\u001b[0m\n",
            "\u001b[?25hDownloading typing_inspect-0.9.0-py3-none-any.whl (8.8 kB)\n",
            "Downloading mypy_extensions-1.1.0-py3-none-any.whl (5.0 kB)\n",
            "Installing collected packages: python-dotenv, mypy-extensions, marshmallow, httpx-sse, deeplake, typing-inspect, dotenv, pydantic-settings, dataclasses-json, langchain-community, langchain-google-community\n",
            "Successfully installed dataclasses-json-0.6.7 deeplake-4.2.14 dotenv-0.9.9 httpx-sse-0.4.1 langchain-community-0.3.27 langchain-google-community-2.0.7 marshmallow-3.26.1 mypy-extensions-1.1.0 pydantic-settings-2.10.1 python-dotenv-1.1.1 typing-inspect-0.9.0\n"
          ]
        }
      ]
    },
    {
      "cell_type": "code",
      "source": [
        "from dotenv import load_dotenv"
      ],
      "metadata": {
        "id": "uaxK-Saa6xmN"
      },
      "execution_count": 5,
      "outputs": []
    },
    {
      "cell_type": "code",
      "source": [
        "load_dotenv('/content/drive/MyDrive/rag/langchain-vector/langchain-vec.env')"
      ],
      "metadata": {
        "colab": {
          "base_uri": "https://localhost:8080/"
        },
        "id": "yg3D8yfp6rng",
        "outputId": "c0ec5b2a-3ca0-4b15-ea5c-d83f9550088f"
      },
      "execution_count": 8,
      "outputs": [
        {
          "output_type": "execute_result",
          "data": {
            "text/plain": [
              "True"
            ]
          },
          "metadata": {},
          "execution_count": 8
        }
      ]
    },
    {
      "cell_type": "markdown",
      "source": [
        "## Google Search - Custom Search Engine"
      ],
      "metadata": {
        "id": "-TNNhEnS8nCY"
      }
    },
    {
      "cell_type": "code",
      "source": [
        "from langchain_core.tools import Tool\n",
        "from langchain_google_community import GoogleSearchAPIWrapper\n",
        "\n",
        "search = GoogleSearchAPIWrapper()\n",
        "\n",
        "tool = Tool(\n",
        "    name=\"google_search\",\n",
        "    description=\"Search Google for recent results.\",\n",
        "    func=search.run,\n",
        ")"
      ],
      "metadata": {
        "id": "LorrPnDb7J8k"
      },
      "execution_count": 11,
      "outputs": []
    },
    {
      "cell_type": "code",
      "source": [
        "response = tool.run(\"Who launched Mario?\")\n",
        "print(response)"
      ],
      "metadata": {
        "colab": {
          "base_uri": "https://localhost:8080/",
          "height": 285
        },
        "id": "l5EMqTeV7NBj",
        "outputId": "9c37c32d-cbe8-48e9-ee7f-dd19e5d52aac"
      },
      "execution_count": 16,
      "outputs": [
        {
          "output_type": "display_data",
          "data": {
            "text/plain": [
              "<IPython.core.display.HTML object>"
            ],
            "text/html": [
              " <style> pre { white-space: pre-wrap; } </style> "
            ]
          },
          "metadata": {}
        },
        {
          "output_type": "display_data",
          "data": {
            "text/plain": [
              "<IPython.core.display.HTML object>"
            ],
            "text/html": [
              " <style> pre { white-space: pre-wrap; } </style> "
            ]
          },
          "metadata": {}
        },
        {
          "output_type": "stream",
          "name": "stdout",
          "text": [
            "Dec 1, 2024 ... Shigeru Miyamoto, creator of the iconic Mario and Zelda video game franchises, has passed gas at the age of 72. r/tomorrow - Shigeru Miyamoto, ... Mario debuted as the player character of Donkey Kong, a 1981 platform game. Miyamoto created Mario because Nintendo was unable to license Popeye as the ... Sep 20, 2023 ... Mario Kart 64, back in the late 1990s. My parents got it for me after they bought me and my sister a Nintendo 64 with Super Mario 64, it was our second game. It is the successor to the 1983 arcade game Mario Bros. and the first game in the Super Mario series. Players control Mario, or his brother Luigi in the ... Mar 16, 2017 ... I know for the first year it was mostly Super Mario 64. I had Wave Race so I could play a game with friends. Then finally Mario Kart 64 came ... Jul 5, 2025 ... Mario Kart World was the biggest Nintendo Switch 2 launch games and while it seemed like a light lineup, it turns out Nintendo's racing game ... May 19, 2024 ... It was either Mario Party 8 or NES Super Mario Bros on the Wii virtual console. Although, I think I remember playing Mario Kart 64 for a little ... May 19, 2025 ... I've just seen Shigeru Miyamoto, a Nintendo designer. Who created Mario, Zelda, and Donkey Kong! at Universal Epic Universe. Mar 1, 2015 ... The first time I met Mario Cuomo, the first words out of his mouth were “Teilhard de Chardin.” It was early September 1984 and Newsweek's ... Mario Couldn't Jump At First. Iwata. In this interview, we're going to talk about New Super Mario Bros. Wii, but rather than diving straight into ...\n"
          ]
        }
      ]
    },
    {
      "cell_type": "markdown",
      "source": [
        "### Number of Results"
      ],
      "metadata": {
        "id": "5q-FsAUh8eKr"
      }
    },
    {
      "cell_type": "code",
      "source": [
        "search = GoogleSearchAPIWrapper(k=1)\n",
        "\n",
        "tool = Tool(\n",
        "    name=\"I'm Feeling Lucky\",\n",
        "    description=\"Search Google and return the first result.\",\n",
        "    func=search.run,\n",
        ")"
      ],
      "metadata": {
        "colab": {
          "base_uri": "https://localhost:8080/",
          "height": 17
        },
        "id": "g2extmY77vc7",
        "outputId": "444157cb-54b8-48c1-e01e-4b3a3fead164"
      },
      "execution_count": 17,
      "outputs": [
        {
          "output_type": "display_data",
          "data": {
            "text/plain": [
              "<IPython.core.display.HTML object>"
            ],
            "text/html": [
              " <style> pre { white-space: pre-wrap; } </style> "
            ]
          },
          "metadata": {}
        },
        {
          "output_type": "display_data",
          "data": {
            "text/plain": [
              "<IPython.core.display.HTML object>"
            ],
            "text/html": [
              " <style> pre { white-space: pre-wrap; } </style> "
            ]
          },
          "metadata": {}
        }
      ]
    },
    {
      "cell_type": "code",
      "source": [
        "response = tool.run(\"Who launched Mario?\")\n",
        "print(response)"
      ],
      "metadata": {
        "colab": {
          "base_uri": "https://localhost:8080/",
          "height": 53
        },
        "id": "PjcSNTpt80cm",
        "outputId": "87d5263e-b0ed-463b-c563-d3580417b43c"
      },
      "execution_count": 20,
      "outputs": [
        {
          "output_type": "display_data",
          "data": {
            "text/plain": [
              "<IPython.core.display.HTML object>"
            ],
            "text/html": [
              " <style> pre { white-space: pre-wrap; } </style> "
            ]
          },
          "metadata": {}
        },
        {
          "output_type": "display_data",
          "data": {
            "text/plain": [
              "<IPython.core.display.HTML object>"
            ],
            "text/html": [
              " <style> pre { white-space: pre-wrap; } </style> "
            ]
          },
          "metadata": {}
        },
        {
          "output_type": "stream",
          "name": "stdout",
          "text": [
            "Dec 1, 2024 ... Shigeru Miyamoto, creator of the iconic Mario and Zelda video game franchises, has passed gas at the age of 72. r/tomorrow - Shigeru Miyamoto, ...\n"
          ]
        }
      ]
    },
    {
      "cell_type": "markdown",
      "source": [
        "## Metadata Results"
      ],
      "metadata": {
        "id": "gWbli-zA9Dxc"
      }
    },
    {
      "cell_type": "code",
      "source": [
        "search = GoogleSearchAPIWrapper()\n",
        "\n",
        "\n",
        "def top5_results(query):\n",
        "    return search.results(query, 5)\n",
        "\n",
        "\n",
        "tool = Tool(\n",
        "    name=\"Google Search Snippets\",\n",
        "    description=\"Search Google for recent results.\",\n",
        "    func=top5_results,\n",
        ")"
      ],
      "metadata": {
        "colab": {
          "base_uri": "https://localhost:8080/",
          "height": 17
        },
        "id": "VTRxBXsg82tw",
        "outputId": "324ee888-0fb6-443e-f3b7-006db67d64b3"
      },
      "execution_count": 21,
      "outputs": [
        {
          "output_type": "display_data",
          "data": {
            "text/plain": [
              "<IPython.core.display.HTML object>"
            ],
            "text/html": [
              " <style> pre { white-space: pre-wrap; } </style> "
            ]
          },
          "metadata": {}
        },
        {
          "output_type": "display_data",
          "data": {
            "text/plain": [
              "<IPython.core.display.HTML object>"
            ],
            "text/html": [
              " <style> pre { white-space: pre-wrap; } </style> "
            ]
          },
          "metadata": {}
        }
      ]
    },
    {
      "cell_type": "code",
      "source": [
        "response = tool.run(\"Who launched Mario?\")\n",
        "print(response)"
      ],
      "metadata": {
        "colab": {
          "base_uri": "https://localhost:8080/",
          "height": 303
        },
        "id": "bOKl9lrg9Js8",
        "outputId": "58c9423f-c31c-46b1-d75d-b0dc9767d81a"
      },
      "execution_count": 22,
      "outputs": [
        {
          "output_type": "display_data",
          "data": {
            "text/plain": [
              "<IPython.core.display.HTML object>"
            ],
            "text/html": [
              " <style> pre { white-space: pre-wrap; } </style> "
            ]
          },
          "metadata": {}
        },
        {
          "output_type": "display_data",
          "data": {
            "text/plain": [
              "<IPython.core.display.HTML object>"
            ],
            "text/html": [
              " <style> pre { white-space: pre-wrap; } </style> "
            ]
          },
          "metadata": {}
        },
        {
          "output_type": "stream",
          "name": "stdout",
          "text": [
            "[{'title': 'Why people say Shigeru Miyamoto created Mario? : r/tomorrow', 'link': 'https://www.reddit.com/r/tomorrow/comments/1h3sxjp/why_people_say_shigeru_miyamoto_created_mario/', 'snippet': 'Dec 1, 2024 ... A heartwarming story: A young boy once showed his drawing of his favourite character, Super Mario, to the creator of Mario, Shigeru Miyamoto. In\\xa0...'}, {'title': 'Mario - Wikipedia', 'link': 'https://en.wikipedia.org/wiki/Mario', 'snippet': 'Mario debuted as the player character of Donkey Kong, a 1981 platform game. Miyamoto created Mario because Nintendo was unable to license Popeye as the\\xa0...'}, {'title': 'What was your first Mario Kart and what year did you play it? : r ...', 'link': 'https://www.reddit.com/r/mariokart/comments/16nj3y5/what_was_your_first_mario_kart_and_what_year_did/', 'snippet': 'Sep 20, 2023 ... Mario Kart 64, back in the late 1990s. My parents got it for me after they bought me and my sister a Nintendo 64 with Super Mario 64, it was our second game.'}, {'title': 'Super Mario Bros. - Wikipedia', 'link': 'https://en.wikipedia.org/wiki/Super_Mario_Bros.', 'snippet': 'It is the successor to the 1983 arcade game Mario Bros. and the first game in the Super Mario series. Players control Mario, or his brother Luigi in the\\xa0...'}, {'title': '[Infographic] A Look Back at Nintendo Console Launch Titles. : r ...', 'link': 'https://www.reddit.com/r/nintendo/comments/5zr6xl/infographic_a_look_back_at_nintendo_console/', 'snippet': 'Mar 16, 2017 ... I know for the first year it was mostly Super Mario 64. I had Wave Race so I could play a game with friends. Then finally Mario Kart 64 came\\xa0...'}]\n"
          ]
        }
      ]
    },
    {
      "cell_type": "markdown",
      "source": [
        "# Agent + Custom Search Engine"
      ],
      "metadata": {
        "id": "FDF9MIeAAFJO"
      }
    },
    {
      "cell_type": "markdown",
      "source": [
        "### Imports"
      ],
      "metadata": {
        "id": "wt4O1OZ3AMh2"
      }
    },
    {
      "cell_type": "code",
      "source": [
        "from langchain.llms import OpenAI\n",
        "\n",
        "from langchain.agents import AgentType\n",
        "from langchain.agents import load_tools\n",
        "from langchain.agents import initialize_agent\n",
        "\n",
        "from langchain.agents import Tool\n",
        "from langchain.utilities import GoogleSearchAPIWrapper"
      ],
      "metadata": {
        "colab": {
          "base_uri": "https://localhost:8080/",
          "height": 17
        },
        "id": "zxuinLbmAKzp",
        "outputId": "7b368583-9bef-4fe1-fc58-7baffe18b39b"
      },
      "execution_count": 23,
      "outputs": [
        {
          "output_type": "display_data",
          "data": {
            "text/plain": [
              "<IPython.core.display.HTML object>"
            ],
            "text/html": [
              " <style> pre { white-space: pre-wrap; } </style> "
            ]
          },
          "metadata": {}
        },
        {
          "output_type": "display_data",
          "data": {
            "text/plain": [
              "<IPython.core.display.HTML object>"
            ],
            "text/html": [
              " <style> pre { white-space: pre-wrap; } </style> "
            ]
          },
          "metadata": {}
        }
      ]
    },
    {
      "cell_type": "markdown",
      "source": [
        "### Building Agent"
      ],
      "metadata": {
        "id": "Se6hAWPmDRot"
      }
    },
    {
      "cell_type": "code",
      "source": [
        "llm = OpenAI(model=\"gpt-3.5-turbo-instruct\", temperature=0)"
      ],
      "metadata": {
        "colab": {
          "base_uri": "https://localhost:8080/",
          "height": 106
        },
        "id": "3sa6DSREAOSk",
        "outputId": "5e57f291-4b37-4eeb-cc74-ee0c3a6115d5"
      },
      "execution_count": 24,
      "outputs": [
        {
          "output_type": "display_data",
          "data": {
            "text/plain": [
              "<IPython.core.display.HTML object>"
            ],
            "text/html": [
              " <style> pre { white-space: pre-wrap; } </style> "
            ]
          },
          "metadata": {}
        },
        {
          "output_type": "display_data",
          "data": {
            "text/plain": [
              "<IPython.core.display.HTML object>"
            ],
            "text/html": [
              " <style> pre { white-space: pre-wrap; } </style> "
            ]
          },
          "metadata": {}
        },
        {
          "output_type": "stream",
          "name": "stderr",
          "text": [
            "/tmp/ipython-input-219042304.py:1: LangChainDeprecationWarning: The class `OpenAI` was deprecated in LangChain 0.0.10 and will be removed in 1.0. An updated version of the class exists in the :class:`~langchain-openai package and should be used instead. To use it run `pip install -U :class:`~langchain-openai` and import as `from :class:`~langchain_openai import OpenAI``.\n",
            "  llm = OpenAI(model=\"gpt-3.5-turbo-instruct\", temperature=0)\n"
          ]
        }
      ]
    },
    {
      "cell_type": "code",
      "source": [
        "# remember to set the environment variables\n",
        "# “GOOGLE_API_KEY” and “GOOGLE_CSE_ID” to be able to use\n",
        "# Google Search via API.\n",
        "search = GoogleSearchAPIWrapper()"
      ],
      "metadata": {
        "colab": {
          "base_uri": "https://localhost:8080/",
          "height": 106
        },
        "id": "RRdGifGvASML",
        "outputId": "65c919d7-a162-4cb9-b3d7-9a2477fd87d6"
      },
      "execution_count": 25,
      "outputs": [
        {
          "output_type": "display_data",
          "data": {
            "text/plain": [
              "<IPython.core.display.HTML object>"
            ],
            "text/html": [
              " <style> pre { white-space: pre-wrap; } </style> "
            ]
          },
          "metadata": {}
        },
        {
          "output_type": "display_data",
          "data": {
            "text/plain": [
              "<IPython.core.display.HTML object>"
            ],
            "text/html": [
              " <style> pre { white-space: pre-wrap; } </style> "
            ]
          },
          "metadata": {}
        },
        {
          "output_type": "stream",
          "name": "stderr",
          "text": [
            "/tmp/ipython-input-2583626623.py:4: LangChainDeprecationWarning: The class `GoogleSearchAPIWrapper` was deprecated in LangChain 0.0.33 and will be removed in 1.0. An updated version of the class exists in the :class:`~langchain-google-community package and should be used instead. To use it run `pip install -U :class:`~langchain-google-community` and import as `from :class:`~langchain_google_community import GoogleSearchAPIWrapper``.\n",
            "  search = GoogleSearchAPIWrapper()\n"
          ]
        }
      ]
    },
    {
      "cell_type": "code",
      "source": [
        "tools = [\n",
        "    Tool(\n",
        "        name = \"google-search\",\n",
        "        func=search.run,\n",
        "        description=\"useful for when you need to search google to answer questions about current events\"\n",
        "    )\n",
        "]"
      ],
      "metadata": {
        "colab": {
          "base_uri": "https://localhost:8080/",
          "height": 17
        },
        "id": "Cno6mcfGAUkm",
        "outputId": "707413bc-f908-4a73-9327-07a13c1657e9"
      },
      "execution_count": 26,
      "outputs": [
        {
          "output_type": "display_data",
          "data": {
            "text/plain": [
              "<IPython.core.display.HTML object>"
            ],
            "text/html": [
              " <style> pre { white-space: pre-wrap; } </style> "
            ]
          },
          "metadata": {}
        },
        {
          "output_type": "display_data",
          "data": {
            "text/plain": [
              "<IPython.core.display.HTML object>"
            ],
            "text/html": [
              " <style> pre { white-space: pre-wrap; } </style> "
            ]
          },
          "metadata": {}
        }
      ]
    },
    {
      "cell_type": "code",
      "source": [
        "agent = initialize_agent(tools,\n",
        "                         llm,\n",
        "                         agent=AgentType.ZERO_SHOT_REACT_DESCRIPTION,\n",
        "                         verbose=True,\n",
        "                         max_iterations=6)"
      ],
      "metadata": {
        "colab": {
          "base_uri": "https://localhost:8080/",
          "height": 17
        },
        "id": "gvKalnq1AjJE",
        "outputId": "5b006a46-a450-4e96-98f7-13e263d37ffe"
      },
      "execution_count": 30,
      "outputs": [
        {
          "output_type": "display_data",
          "data": {
            "text/plain": [
              "<IPython.core.display.HTML object>"
            ],
            "text/html": [
              " <style> pre { white-space: pre-wrap; } </style> "
            ]
          },
          "metadata": {}
        },
        {
          "output_type": "display_data",
          "data": {
            "text/plain": [
              "<IPython.core.display.HTML object>"
            ],
            "text/html": [
              " <style> pre { white-space: pre-wrap; } </style> "
            ]
          },
          "metadata": {}
        }
      ]
    },
    {
      "cell_type": "code",
      "source": [
        "response = agent(\"What's the latest news about US Tariff on India?\")\n",
        "print(response)"
      ],
      "metadata": {
        "colab": {
          "base_uri": "https://localhost:8080/",
          "height": 1000
        },
        "id": "RFy-YF0WAquS",
        "outputId": "c57e9864-5925-4af6-94f1-47fa067e4ebf"
      },
      "execution_count": 31,
      "outputs": [
        {
          "output_type": "display_data",
          "data": {
            "text/plain": [
              "<IPython.core.display.HTML object>"
            ],
            "text/html": [
              " <style> pre { white-space: pre-wrap; } </style> "
            ]
          },
          "metadata": {}
        },
        {
          "output_type": "display_data",
          "data": {
            "text/plain": [
              "<IPython.core.display.HTML object>"
            ],
            "text/html": [
              " <style> pre { white-space: pre-wrap; } </style> "
            ]
          },
          "metadata": {}
        },
        {
          "output_type": "stream",
          "name": "stdout",
          "text": [
            "\n",
            "\n",
            "\u001b[1m> Entering new AgentExecutor chain...\u001b[0m\n",
            "\u001b[32;1m\u001b[1;3m I should search for news articles about US Tariff on India to get the latest information.\n",
            "Action: google-search\n",
            "Action Input: \"US Tariff on India\"\u001b[0m\n",
            "Observation: \u001b[36;1m\u001b[1;3mJul 22, 2025 ... 'We're going to crush your economy': US Senator Lindsey Graham warns India, China, Brazil over 'cheap' Russian oil; threatens to 'tariff the ... Jul 17, 2025 ... Trump says India and US very close to finalising trade deal · Trump to hit India with 25% tariffs - plus 'penalty' for trade with Russia · Air ... 10 hours ago ... President Trump on Wednesday said that the United States will begin imposing 25% tariffs on goods imported from India on Aug. 1. 9 hours ago ... President Trump said Wednesday that goods from India will face a 25% tariff when entering the US beginning on Friday, a signal that ... 1 day ago ... On Friday, the United States is ready to impose a 26 percent tariff on all goods it imports from India. Dozens of countries are facing the same ... 13 hours ago ... President Trump said Tuesday that India may be hit with a tariff rate of 20% to 25%. The country is one of the largest US trade partners ... 6 hours ago ... President Donald Trump said on Wednesday the United States is still negotiating with India on trade after announcing earlier in the day the ... 11 hours ago ... On Tuesday, Trump told reporters that India would pay 25% tariffs if they don't reach a deal by August 1. When imposing a 50-day deadline on ... 10 hours ago ... WASHINGTON/NEW DELHI, July 30 (Reuters) - U.S. President Donald Trump on Wednesday imposed a 25% tariff on goods imported from India ... 11 hours ago ... THE EU IS THE TOP U.S. TRADING PARTNER. Largest U.S. trade relationships by total imports and exports of goods, 2024.\u001b[0m\n",
            "Thought:\u001b[32;1m\u001b[1;3m After reading through multiple news articles, it seems like the US is planning to impose a 25% tariff on goods imported from India starting on August 1st.\n",
            "Action: google-search\n",
            "Action Input: \"US Tariff on India August 1st\"\u001b[0m\n",
            "Observation: \u001b[36;1m\u001b[1;3m10 hours ago ... President Trump on Wednesday said that the United States will begin imposing 25% tariffs on goods imported from India on Aug. 1. 9 hours ago ... U.S. President Donald Trump on Wednesday imposed a 25% tariff on goods imported from India starting August 1, as well as an unspecified ... 3 days ago ... ... tariffs remain in effect. The Federal Circuit will hold oral argument in the case on July 31. Note: Before August 1, the U.S. government is ... 13 hours ago ... U.S. President Donald Trump said on Wednesday that United States will impose a 25% tariff on goods imported from India starting on Aug. 1. 5 hours ago ... President Donald Trump says the United States and India are still negotiating on trade despite new tariffs slated to begin in a few days. 10 hours ago ... WASHINGTON/NEW DELHI, July 30 (Reuters) - U.S. President Donald Trump on Wednesday imposed a 25% tariff on goods imported from India ... 6 hours ago ... India braces for higher US tariffs, eyes broader trade deal: Sources ... The EU and the US are rushing to finish a trade deal before the August 1 ... 2 days ago ... The implementation of high tariffs was immediately suspended for 90 days till July 9 and later until August 1, as America is negotiating trade ... 5 hours ago ... EU, US rush to clinch final details and lock in trade deal. The EU and the US are rushing to finish a trade deal before the August 1 deadline. 2 days ago ... US and EU agree on 15 percent tariffs, averting transatlantic trade war ... US President Donald Trump and European Commission President Ursula von ...\u001b[0m\n",
            "Thought:\u001b[32;1m\u001b[1;3m It seems like the US and India are still in negotiations and the tariffs may not go into effect on August 1st.\n",
            "Action: google-search\n",
            "Action Input: \"US India trade negotiations\"\u001b[0m\n",
            "Observation: \u001b[36;1m\u001b[1;3mJan 12, 2024 ... There is no trade agreement between the United States and India. In April 2018, the United States launched an eligibility review of India's ... Apr 2, 2025 ... NEGOTIATING TO ADDRESS BILATERAL TRADE BARRIERS: The United States has long recognized significant trade barriers with India. As a result, the ... 6 hours ago ... India has said that it will continue its negotiations with the US for a trade deal and hope one can be established by fall of 2025, despite ... Apr 21, 2025 ... WASHINGTON – Today, U.S. Trade Representative Jamieson ... To read the USTR Fact Sheet on trade negotiations with India, please click here. May 8, 2025 ... Per a February 2025 joint statement, President Trump and Indian Prime Minister (PM) Narendra Modi seek to more than double bilateral trade to ... 1 day ago ... The US Trade Representative Jamieson Greer said \"more negotiations\" are needed between the US and India in order to secure a trade deal, Greer's ... Jan 31, 2025 ... However, the U.S.-Japan Trade Agreement (USJTA) negotiated under the first Trump administration in 2019 could provide a compelling model. The ... Jul 2, 2025 ... WASHINGTON/NEW DELHI, July 2 (Reuters) - U.S. and India trade negotiators were pushing on Wednesday to try to land a tariff-reducing deal ... Jul 1, 2025 ... Significant issues, such as the U.S. trade deficit with China and allegations of unfair trade practices, remain unresolved. June 27, 2025. India. 16 hours ago ... India braces for higher US tariffs, eyes broader trade deal: Sources ... President Trump on Friday expressed pessimism on US trade negotiations ...\u001b[0m\n",
            "Thought:\u001b[32;1m\u001b[1;3m It seems like the US and India are still in negotiations and a trade deal has not been reached yet.\n",
            "Thought: I now know that the US is planning to impose a 25% tariff on goods imported from India starting on August 1st, but negotiations are still ongoing and a trade deal has not been reached yet.\n",
            "Final Answer: The latest news about US Tariff on India is that the US is planning to impose a 25% tariff on goods imported from India starting on August 1st, but negotiations are still ongoing and a trade deal has not been reached yet.\u001b[0m\n",
            "\n",
            "\u001b[1m> Finished chain.\u001b[0m\n",
            "{'input': \"What's the latest news about US Tariff on India?\", 'output': 'The latest news about US Tariff on India is that the US is planning to impose a 25% tariff on goods imported from India starting on August 1st, but negotiations are still ongoing and a trade deal has not been reached yet.'}\n"
          ]
        }
      ]
    },
    {
      "cell_type": "code",
      "source": [
        "response['output']"
      ],
      "metadata": {
        "colab": {
          "base_uri": "https://localhost:8080/",
          "height": 53
        },
        "id": "nVMc9rZ9A8Ws",
        "outputId": "1be0c211-0167-40f1-f845-c38c1945d9da"
      },
      "execution_count": 32,
      "outputs": [
        {
          "output_type": "display_data",
          "data": {
            "text/plain": [
              "<IPython.core.display.HTML object>"
            ],
            "text/html": [
              " <style> pre { white-space: pre-wrap; } </style> "
            ]
          },
          "metadata": {}
        },
        {
          "output_type": "display_data",
          "data": {
            "text/plain": [
              "<IPython.core.display.HTML object>"
            ],
            "text/html": [
              " <style> pre { white-space: pre-wrap; } </style> "
            ]
          },
          "metadata": {}
        },
        {
          "output_type": "execute_result",
          "data": {
            "text/plain": [
              "'The latest news about US Tariff on India is that the US is planning to impose a 25% tariff on goods imported from India starting on August 1st, but negotiations are still ongoing and a trade deal has not been reached yet.'"
            ],
            "application/vnd.google.colaboratory.intrinsic+json": {
              "type": "string"
            }
          },
          "metadata": {},
          "execution_count": 32
        }
      ]
    },
    {
      "cell_type": "markdown",
      "source": [
        "# Chaining Tools - Language Model + Google Search"
      ],
      "metadata": {
        "id": "7aXAyrAWELzX"
      }
    },
    {
      "cell_type": "markdown",
      "source": [
        "### Imports"
      ],
      "metadata": {
        "id": "kuADw6UAEVbQ"
      }
    },
    {
      "cell_type": "code",
      "source": [
        "from langchain.llms import OpenAI\n",
        "from langchain.agents import Tool\n",
        "from langchain.utilities import GoogleSearchAPIWrapper\n",
        "from langchain.prompts import PromptTemplate\n",
        "from langchain.chains import LLMChain\n",
        "from langchain.agents import initialize_agent, AgentType"
      ],
      "metadata": {
        "colab": {
          "base_uri": "https://localhost:8080/",
          "height": 17
        },
        "id": "CxieIQ9oBLUi",
        "outputId": "a394c238-be16-4e4c-fccf-c1a86026739c"
      },
      "execution_count": 36,
      "outputs": [
        {
          "output_type": "display_data",
          "data": {
            "text/plain": [
              "<IPython.core.display.HTML object>"
            ],
            "text/html": [
              " <style> pre { white-space: pre-wrap; } </style> "
            ]
          },
          "metadata": {}
        },
        {
          "output_type": "display_data",
          "data": {
            "text/plain": [
              "<IPython.core.display.HTML object>"
            ],
            "text/html": [
              " <style> pre { white-space: pre-wrap; } </style> "
            ]
          },
          "metadata": {}
        }
      ]
    },
    {
      "cell_type": "code",
      "source": [
        "llm = OpenAI(model=\"gpt-3.5-turbo-instruct\", temperature=0)\n",
        "\n",
        "prompt = PromptTemplate(\n",
        "    input_variables=[\"query\"],\n",
        "    template=\"Write a summary of the following text: {query}\"\n",
        ")\n",
        "\n",
        "summarize_chain = LLMChain(llm=llm, prompt=prompt)"
      ],
      "metadata": {
        "colab": {
          "base_uri": "https://localhost:8080/",
          "height": 71
        },
        "id": "i01xYAkuEW9a",
        "outputId": "e9925118-3cbe-4fe8-98db-e22173411565"
      },
      "execution_count": 37,
      "outputs": [
        {
          "output_type": "display_data",
          "data": {
            "text/plain": [
              "<IPython.core.display.HTML object>"
            ],
            "text/html": [
              " <style> pre { white-space: pre-wrap; } </style> "
            ]
          },
          "metadata": {}
        },
        {
          "output_type": "display_data",
          "data": {
            "text/plain": [
              "<IPython.core.display.HTML object>"
            ],
            "text/html": [
              " <style> pre { white-space: pre-wrap; } </style> "
            ]
          },
          "metadata": {}
        },
        {
          "output_type": "stream",
          "name": "stderr",
          "text": [
            "/tmp/ipython-input-1638005415.py:8: LangChainDeprecationWarning: The class `LLMChain` was deprecated in LangChain 0.1.17 and will be removed in 1.0. Use :meth:`~RunnableSequence, e.g., `prompt | llm`` instead.\n",
            "  summarize_chain = LLMChain(llm=llm, prompt=prompt)\n"
          ]
        }
      ]
    },
    {
      "cell_type": "code",
      "source": [
        "# remember to set the environment variables\n",
        "# “GOOGLE_API_KEY” and “GOOGLE_CSE_ID” to be able to use\n",
        "# Google Search via API.\n",
        "search = GoogleSearchAPIWrapper()\n",
        "\n",
        "tools = [\n",
        "    Tool(\n",
        "        name=\"Search\",\n",
        "        func=search.run,\n",
        "        description=\"useful for finding information about recent events\"\n",
        "    ),\n",
        "    Tool(\n",
        "       name='Summarizer',\n",
        "       func=summarize_chain.run,\n",
        "       description='useful for summarizing texts'\n",
        "    )\n",
        "]"
      ],
      "metadata": {
        "colab": {
          "base_uri": "https://localhost:8080/",
          "height": 17
        },
        "id": "s_lPj0yMEg7A",
        "outputId": "cf50cba6-1e53-4d34-b71a-a39385b091aa"
      },
      "execution_count": 38,
      "outputs": [
        {
          "output_type": "display_data",
          "data": {
            "text/plain": [
              "<IPython.core.display.HTML object>"
            ],
            "text/html": [
              " <style> pre { white-space: pre-wrap; } </style> "
            ]
          },
          "metadata": {}
        },
        {
          "output_type": "display_data",
          "data": {
            "text/plain": [
              "<IPython.core.display.HTML object>"
            ],
            "text/html": [
              " <style> pre { white-space: pre-wrap; } </style> "
            ]
          },
          "metadata": {}
        }
      ]
    },
    {
      "cell_type": "code",
      "source": [
        "agent = initialize_agent(\n",
        "    tools,\n",
        "    llm,\n",
        "    agent=AgentType.ZERO_SHOT_REACT_DESCRIPTION,\n",
        "    verbose=True\n",
        ")"
      ],
      "metadata": {
        "colab": {
          "base_uri": "https://localhost:8080/",
          "height": 17
        },
        "id": "xRInckeaEoeF",
        "outputId": "e772b9f5-cd97-46b5-c62a-630d4131097f"
      },
      "execution_count": 39,
      "outputs": [
        {
          "output_type": "display_data",
          "data": {
            "text/plain": [
              "<IPython.core.display.HTML object>"
            ],
            "text/html": [
              " <style> pre { white-space: pre-wrap; } </style> "
            ]
          },
          "metadata": {}
        },
        {
          "output_type": "display_data",
          "data": {
            "text/plain": [
              "<IPython.core.display.HTML object>"
            ],
            "text/html": [
              " <style> pre { white-space: pre-wrap; } </style> "
            ]
          },
          "metadata": {}
        }
      ]
    },
    {
      "cell_type": "code",
      "source": [
        "response = agent(\"What's the latest news about the US tariffs on India? Then please summarize the results.\")\n",
        "print(response)"
      ],
      "metadata": {
        "colab": {
          "base_uri": "https://localhost:8080/",
          "height": 767
        },
        "id": "kCw05D7wEwcL",
        "outputId": "8f8aaa3e-96e1-4ecc-c0b6-37143030b09b"
      },
      "execution_count": 40,
      "outputs": [
        {
          "output_type": "display_data",
          "data": {
            "text/plain": [
              "<IPython.core.display.HTML object>"
            ],
            "text/html": [
              " <style> pre { white-space: pre-wrap; } </style> "
            ]
          },
          "metadata": {}
        },
        {
          "output_type": "display_data",
          "data": {
            "text/plain": [
              "<IPython.core.display.HTML object>"
            ],
            "text/html": [
              " <style> pre { white-space: pre-wrap; } </style> "
            ]
          },
          "metadata": {}
        },
        {
          "output_type": "stream",
          "name": "stdout",
          "text": [
            "\n",
            "\n",
            "\u001b[1m> Entering new AgentExecutor chain...\u001b[0m\n",
            "\u001b[32;1m\u001b[1;3m I should use the Search tool to find information about recent events related to US tariffs on India.\n",
            "Action: Search\n",
            "Action Input: \"US tariffs on India\"\u001b[0m\n",
            "Observation: \u001b[36;1m\u001b[1;3mJul 22, 2025 ... 'We're going to crush your economy': US Senator Lindsey Graham warns India, China, Brazil over 'cheap' Russian oil; threatens to 'tariff the ... Jul 17, 2025 ... Trump says India and US very close to finalising trade deal · Trump to hit India with 25% tariffs - plus 'penalty' for trade with Russia · Air ... 10 hours ago ... President Trump on Wednesday said that the United States will begin imposing 25% tariffs on goods imported from India on Aug. 1. 13 hours ago ... President Trump said Tuesday that India may be hit with a tariff rate of 20% to 25%. The country is one of the largest US trade partners ... 1 day ago ... On Friday, the United States is ready to impose a 26 percent tariff on all goods it imports from India. Dozens of countries are facing the same ... Jul 15, 2025 ... India is the largest U.S. trading partner facing Trump's so-called reciprocal tariffs that did not receive a letter; the European Union ... 6 hours ago ... President Donald Trump said on Wednesday the United States is still negotiating with India on trade after announcing earlier in the day the ... 11 hours ago ... President Trump said Wednesday that goods from India will face a 25% tariff when entering the US beginning on Friday, a signal that ... 11 hours ago ... WASHINGTON/NEW DELHI, July 30 (Reuters) - U.S. President Donald Trump on Wednesday imposed a 25% tariff on goods imported from India ... On April 2, 2025, Liberation Day, President Trump imposed a 10% tariff on all countries and individualized reciprocal higher tariffs on nations with which ...\u001b[0m\n",
            "Thought:\u001b[32;1m\u001b[1;3m Now that I have found relevant information, I should use the Summarizer tool to summarize the results.\n",
            "Action: Summarizer\n",
            "Action Input: \"US tariffs on India\"\u001b[0m\n",
            "Observation: \u001b[33;1m\u001b[1;3m\n",
            "\n",
            "The United States has imposed tariffs on India, which are taxes on imported goods. These tariffs have been implemented in response to India's trade practices, including high tariffs on American goods and restrictions on market access. The US government believes that these tariffs will help to reduce the trade deficit between the two countries and create a more balanced trade relationship. However, India has expressed concerns over the impact of these tariffs on their economy and has retaliated by imposing tariffs on American goods. The situation has led to tensions between the two nations and could potentially have a negative impact on their trade relationship.\u001b[0m\n",
            "Thought:\u001b[32;1m\u001b[1;3m I now know the final answer.\n",
            "Final Answer: The United States has imposed tariffs on India in response to their trade practices, and India has retaliated with tariffs on American goods. This has led to tensions between the two nations and could potentially have a negative impact on their trade relationship.\u001b[0m\n",
            "\n",
            "\u001b[1m> Finished chain.\u001b[0m\n",
            "{'input': \"What's the latest news about the US tariffs on India? Then please summarize the results.\", 'output': 'The United States has imposed tariffs on India in response to their trade practices, and India has retaliated with tariffs on American goods. This has led to tensions between the two nations and could potentially have a negative impact on their trade relationship.'}\n"
          ]
        }
      ]
    },
    {
      "cell_type": "code",
      "source": [
        "response['output']"
      ],
      "metadata": {
        "colab": {
          "base_uri": "https://localhost:8080/",
          "height": 71
        },
        "id": "ZFsGwHTNE76z",
        "outputId": "0da0a126-ac38-432c-b5e8-b381ae71e905"
      },
      "execution_count": 41,
      "outputs": [
        {
          "output_type": "display_data",
          "data": {
            "text/plain": [
              "<IPython.core.display.HTML object>"
            ],
            "text/html": [
              " <style> pre { white-space: pre-wrap; } </style> "
            ]
          },
          "metadata": {}
        },
        {
          "output_type": "display_data",
          "data": {
            "text/plain": [
              "<IPython.core.display.HTML object>"
            ],
            "text/html": [
              " <style> pre { white-space: pre-wrap; } </style> "
            ]
          },
          "metadata": {}
        },
        {
          "output_type": "execute_result",
          "data": {
            "text/plain": [
              "'The United States has imposed tariffs on India in response to their trade practices, and India has retaliated with tariffs on American goods. This has led to tensions between the two nations and could potentially have a negative impact on their trade relationship.'"
            ],
            "application/vnd.google.colaboratory.intrinsic+json": {
              "type": "string"
            }
          },
          "metadata": {},
          "execution_count": 41
        }
      ]
    },
    {
      "cell_type": "code",
      "source": [],
      "metadata": {
        "id": "7OI0URB-FGRf"
      },
      "execution_count": null,
      "outputs": []
    }
  ]
}